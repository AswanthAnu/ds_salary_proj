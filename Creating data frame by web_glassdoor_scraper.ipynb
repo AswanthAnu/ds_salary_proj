{
 "cells": [
  {
   "cell_type": "code",
   "execution_count": null,
   "id": "888a5957",
   "metadata": {},
   "outputs": [],
   "source": [
    "import pandas as pd\n",
    "import web_glassdoor_scraper as gs"
   ]
  },
  {
   "cell_type": "code",
   "execution_count": null,
   "id": "1ecbb436",
   "metadata": {},
   "outputs": [],
   "source": [
    "path = 'C:\\Program Files (x86)\\chromedriver_win32\\chromedriver.exe'"
   ]
  },
  {
   "cell_type": "code",
   "execution_count": null,
   "id": "b959a3bc",
   "metadata": {},
   "outputs": [],
   "source": [
    "df = gs.get_jobs('data scientist', 1000, False, path, 20)"
   ]
  },
  {
   "cell_type": "code",
   "execution_count": null,
   "id": "b5767fc0",
   "metadata": {},
   "outputs": [],
   "source": [
    "df"
   ]
  },
  {
   "cell_type": "code",
   "execution_count": null,
   "id": "111f79cf",
   "metadata": {
    "scrolled": true
   },
   "outputs": [],
   "source": [
    "df1.to_csv('glassdoor_jobs.csv', index = False)"
   ]
  },
  {
   "cell_type": "code",
   "execution_count": null,
   "id": "bfd3bda8",
   "metadata": {},
   "outputs": [],
   "source": []
  }
 ],
 "metadata": {
  "kernelspec": {
   "display_name": "bobbykernal",
   "language": "python",
   "name": "bobbykernal"
  },
  "language_info": {
   "codemirror_mode": {
    "name": "ipython",
    "version": 3
   },
   "file_extension": ".py",
   "mimetype": "text/x-python",
   "name": "python",
   "nbconvert_exporter": "python",
   "pygments_lexer": "ipython3",
   "version": "3.10.6"
  }
 },
 "nbformat": 4,
 "nbformat_minor": 5
}

{
 "cells": [
  {
   "cell_type": "code",
   "execution_count": 1,
   "id": "53d5f13e",
   "metadata": {},
   "outputs": [],
   "source": [
    "import pandas as pd"
   ]
  },
  {
   "cell_type": "code",
   "execution_count": 3,
   "id": "44364169",
   "metadata": {},
   "outputs": [],
   "source": [
    "df = pd.read_csv('glassdoor_jobs.csv')"
   ]
  },
  {
   "cell_type": "code",
   "execution_count": 5,
   "id": "83e3467a",
   "metadata": {},
   "outputs": [
    {
     "data": {
      "text/html": [
       "<div>\n",
       "<style scoped>\n",
       "    .dataframe tbody tr th:only-of-type {\n",
       "        vertical-align: middle;\n",
       "    }\n",
       "\n",
       "    .dataframe tbody tr th {\n",
       "        vertical-align: top;\n",
       "    }\n",
       "\n",
       "    .dataframe thead th {\n",
       "        text-align: right;\n",
       "    }\n",
       "</style>\n",
       "<table border=\"1\" class=\"dataframe\">\n",
       "  <thead>\n",
       "    <tr style=\"text-align: right;\">\n",
       "      <th></th>\n",
       "      <th>Job Title</th>\n",
       "      <th>Salary Estimate</th>\n",
       "      <th>Job Description</th>\n",
       "      <th>Rating</th>\n",
       "      <th>Company Name</th>\n",
       "      <th>Location</th>\n",
       "      <th>Size</th>\n",
       "      <th>Founded</th>\n",
       "      <th>Type of ownership</th>\n",
       "      <th>Industry</th>\n",
       "      <th>Sector</th>\n",
       "      <th>Revenue</th>\n",
       "    </tr>\n",
       "  </thead>\n",
       "  <tbody>\n",
       "    <tr>\n",
       "      <th>0</th>\n",
       "      <td>Data Scientist - IT</td>\n",
       "      <td>₹4L - ₹6L (Glassdoor Est.)</td>\n",
       "      <td>Job Location Mumbai\\n\\nJob Description\\n\\nAbou...</td>\n",
       "      <td>4.2</td>\n",
       "      <td>Procter &amp; Gamble\\n4.2</td>\n",
       "      <td>Mumbai</td>\n",
       "      <td>10000+ Employees</td>\n",
       "      <td>1837</td>\n",
       "      <td>Company - Public</td>\n",
       "      <td>Consumer Product Manufacturing</td>\n",
       "      <td>Manufacturing</td>\n",
       "      <td>$10+ billion (USD)</td>\n",
       "    </tr>\n",
       "    <tr>\n",
       "      <th>1</th>\n",
       "      <td>Data Scientist</td>\n",
       "      <td>₹4L - ₹6L (Glassdoor Est.)</td>\n",
       "      <td>Description\\n\\nJOB DESCRIPTION\\n\\nSkill: Data ...</td>\n",
       "      <td>3.8</td>\n",
       "      <td>Virtusa\\n3.8</td>\n",
       "      <td>Pune</td>\n",
       "      <td>10000+ Employees</td>\n",
       "      <td>1996</td>\n",
       "      <td>Company - Private</td>\n",
       "      <td>Information Technology Support Services</td>\n",
       "      <td>Information Technology</td>\n",
       "      <td>$2 to $5 billion (USD)</td>\n",
       "    </tr>\n",
       "    <tr>\n",
       "      <th>2</th>\n",
       "      <td>Data Scientist</td>\n",
       "      <td>₹4L - ₹6L (Glassdoor Est.)</td>\n",
       "      <td>Brighter futures start here\\nAnko is the globa...</td>\n",
       "      <td>3.4</td>\n",
       "      <td>Kmart\\n3.4</td>\n",
       "      <td>Bangalore</td>\n",
       "      <td>10000+ Employees</td>\n",
       "      <td>1899</td>\n",
       "      <td>Subsidiary or Business Segment</td>\n",
       "      <td>General Merchandise &amp; Superstores</td>\n",
       "      <td>Retail &amp; Wholesale</td>\n",
       "      <td>$5 to $10 billion (USD)</td>\n",
       "    </tr>\n",
       "  </tbody>\n",
       "</table>\n",
       "</div>"
      ],
      "text/plain": [
       "             Job Title             Salary Estimate  \\\n",
       "0  Data Scientist - IT  ₹4L - ₹6L (Glassdoor Est.)   \n",
       "1       Data Scientist  ₹4L - ₹6L (Glassdoor Est.)   \n",
       "2       Data Scientist  ₹4L - ₹6L (Glassdoor Est.)   \n",
       "\n",
       "                                     Job Description  Rating  \\\n",
       "0  Job Location Mumbai\\n\\nJob Description\\n\\nAbou...     4.2   \n",
       "1  Description\\n\\nJOB DESCRIPTION\\n\\nSkill: Data ...     3.8   \n",
       "2  Brighter futures start here\\nAnko is the globa...     3.4   \n",
       "\n",
       "            Company Name   Location              Size  Founded  \\\n",
       "0  Procter & Gamble\\n4.2     Mumbai  10000+ Employees     1837   \n",
       "1           Virtusa\\n3.8       Pune  10000+ Employees     1996   \n",
       "2             Kmart\\n3.4  Bangalore  10000+ Employees     1899   \n",
       "\n",
       "                Type of ownership                                 Industry  \\\n",
       "0                Company - Public           Consumer Product Manufacturing   \n",
       "1               Company - Private  Information Technology Support Services   \n",
       "2  Subsidiary or Business Segment        General Merchandise & Superstores   \n",
       "\n",
       "                   Sector                  Revenue  \n",
       "0           Manufacturing       $10+ billion (USD)  \n",
       "1  Information Technology   $2 to $5 billion (USD)  \n",
       "2      Retail & Wholesale  $5 to $10 billion (USD)  "
      ]
     },
     "execution_count": 5,
     "metadata": {},
     "output_type": "execute_result"
    }
   ],
   "source": [
    "df.head(3)"
   ]
  },
  {
   "cell_type": "code",
   "execution_count": 6,
   "id": "e5416a02",
   "metadata": {},
   "outputs": [
    {
     "data": {
      "text/plain": [
       "(978, 12)"
      ]
     },
     "execution_count": 6,
     "metadata": {},
     "output_type": "execute_result"
    }
   ],
   "source": [
    "df.shape"
   ]
  },
  {
   "cell_type": "code",
   "execution_count": 8,
   "id": "be896cc9",
   "metadata": {},
   "outputs": [],
   "source": [
    "# salary parsing\n",
    "df = df[df['Salary Estimate'] != -1]"
   ]
  },
  {
   "cell_type": "code",
   "execution_count": 9,
   "id": "77dd420a",
   "metadata": {},
   "outputs": [
    {
     "data": {
      "text/plain": [
       "0      ₹4L - ₹6L \n",
       "1      ₹4L - ₹6L \n",
       "2      ₹4L - ₹6L \n",
       "3      ₹4L - ₹6L \n",
       "4      ₹4L - ₹6L \n",
       "          ...    \n",
       "973    ₹4L - ₹6L \n",
       "974    ₹4L - ₹6L \n",
       "975    ₹4L - ₹6L \n",
       "976    ₹4L - ₹6L \n",
       "977    ₹4L - ₹6L \n",
       "Name: Salary Estimate, Length: 978, dtype: object"
      ]
     },
     "execution_count": 9,
     "metadata": {},
     "output_type": "execute_result"
    }
   ],
   "source": [
    "salary = df['Salary Estimate'].apply(lambda x: x.split('(')[0])\n",
    "salary"
   ]
  },
  {
   "cell_type": "code",
   "execution_count": 10,
   "id": "9bc803c7",
   "metadata": {},
   "outputs": [
    {
     "data": {
      "text/plain": [
       "0      4 - 6 \n",
       "1      4 - 6 \n",
       "2      4 - 6 \n",
       "3      4 - 6 \n",
       "4      4 - 6 \n",
       "        ...  \n",
       "973    4 - 6 \n",
       "974    4 - 6 \n",
       "975    4 - 6 \n",
       "976    4 - 6 \n",
       "977    4 - 6 \n",
       "Name: Salary Estimate, Length: 978, dtype: object"
      ]
     },
     "execution_count": 10,
     "metadata": {},
     "output_type": "execute_result"
    }
   ],
   "source": [
    "remove_R_L = salary.apply(lambda x: x.replace('L', '').replace('₹', ''))\n",
    "remove_R_L"
   ]
  },
  {
   "cell_type": "code",
   "execution_count": 14,
   "id": "5edc280e",
   "metadata": {},
   "outputs": [
    {
     "data": {
      "text/plain": [
       "0     ₹4L - ₹6L (Glassdoor Est.)\n",
       "1     ₹4L - ₹6L (Glassdoor Est.)\n",
       "2     ₹4L - ₹6L (Glassdoor Est.)\n",
       "3     ₹4L - ₹6L (Glassdoor Est.)\n",
       "4     ₹4L - ₹6L (Glassdoor Est.)\n",
       "5     ₹4L - ₹6L (Glassdoor Est.)\n",
       "6     ₹4L - ₹6L (Glassdoor Est.)\n",
       "7     ₹4L - ₹6L (Glassdoor Est.)\n",
       "8     ₹4L - ₹6L (Glassdoor Est.)\n",
       "9     ₹4L - ₹6L (Glassdoor Est.)\n",
       "10    ₹4L - ₹6L (Glassdoor Est.)\n",
       "11    ₹4L - ₹6L (Glassdoor Est.)\n",
       "12    ₹4L - ₹6L (Glassdoor Est.)\n",
       "13    ₹4L - ₹6L (Glassdoor Est.)\n",
       "14    ₹4L - ₹6L (Glassdoor Est.)\n",
       "15    ₹4L - ₹6L (Glassdoor Est.)\n",
       "16    ₹4L - ₹6L (Glassdoor Est.)\n",
       "17    ₹4L - ₹6L (Glassdoor Est.)\n",
       "18    ₹4L - ₹6L (Glassdoor Est.)\n",
       "19    ₹4L - ₹6L (Glassdoor Est.)\n",
       "20    ₹4L - ₹6L (Glassdoor Est.)\n",
       "21    ₹4L - ₹6L (Glassdoor Est.)\n",
       "22    ₹4L - ₹6L (Glassdoor Est.)\n",
       "23    ₹4L - ₹6L (Glassdoor Est.)\n",
       "24    ₹4L - ₹6L (Glassdoor Est.)\n",
       "25    ₹4L - ₹6L (Glassdoor Est.)\n",
       "26    ₹4L - ₹6L (Glassdoor Est.)\n",
       "27    ₹4L - ₹6L (Glassdoor Est.)\n",
       "28    ₹4L - ₹6L (Glassdoor Est.)\n",
       "29    ₹4L - ₹6L (Glassdoor Est.)\n",
       "30    ₹7L - ₹9L (Glassdoor Est.)\n",
       "31    ₹7L - ₹9L (Glassdoor Est.)\n",
       "32    ₹7L - ₹9L (Glassdoor Est.)\n",
       "33    ₹7L - ₹9L (Glassdoor Est.)\n",
       "34    ₹7L - ₹9L (Glassdoor Est.)\n",
       "35    ₹7L - ₹9L (Glassdoor Est.)\n",
       "36    ₹7L - ₹9L (Glassdoor Est.)\n",
       "37    ₹7L - ₹9L (Glassdoor Est.)\n",
       "38    ₹7L - ₹9L (Glassdoor Est.)\n",
       "39    ₹7L - ₹9L (Glassdoor Est.)\n",
       "40    ₹7L - ₹9L (Glassdoor Est.)\n",
       "41    ₹7L - ₹9L (Glassdoor Est.)\n",
       "42    ₹7L - ₹9L (Glassdoor Est.)\n",
       "43    ₹7L - ₹9L (Glassdoor Est.)\n",
       "44    ₹7L - ₹9L (Glassdoor Est.)\n",
       "45    ₹7L - ₹9L (Glassdoor Est.)\n",
       "46    ₹7L - ₹9L (Glassdoor Est.)\n",
       "47    ₹7L - ₹9L (Glassdoor Est.)\n",
       "48    ₹7L - ₹9L (Glassdoor Est.)\n",
       "49    ₹7L - ₹9L (Glassdoor Est.)\n",
       "Name: Salary Estimate, dtype: object"
      ]
     },
     "execution_count": 14,
     "metadata": {},
     "output_type": "execute_result"
    }
   ],
   "source": [
    "df['Salary Estimate'].head(50)"
   ]
  },
  {
   "cell_type": "code",
   "execution_count": null,
   "id": "91c3210d",
   "metadata": {},
   "outputs": [],
   "source": [
    "# parsing of job description"
   ]
  },
  {
   "cell_type": "code",
   "execution_count": null,
   "id": "99b627d3",
   "metadata": {},
   "outputs": [],
   "source": [
    "# company name text only"
   ]
  },
  {
   "cell_type": "code",
   "execution_count": null,
   "id": "5108f8d8",
   "metadata": {},
   "outputs": [],
   "source": [
    "# age of company"
   ]
  },
  {
   "cell_type": "code",
   "execution_count": null,
   "id": "505fe32c",
   "metadata": {},
   "outputs": [],
   "source": []
  },
  {
   "cell_type": "code",
   "execution_count": null,
   "id": "18240fb8",
   "metadata": {},
   "outputs": [],
   "source": []
  },
  {
   "cell_type": "code",
   "execution_count": null,
   "id": "8f701797",
   "metadata": {},
   "outputs": [],
   "source": []
  }
 ],
 "metadata": {
  "kernelspec": {
   "display_name": "bobbykernal",
   "language": "python",
   "name": "bobbykernal"
  },
  "language_info": {
   "codemirror_mode": {
    "name": "ipython",
    "version": 3
   },
   "file_extension": ".py",
   "mimetype": "text/x-python",
   "name": "python",
   "nbconvert_exporter": "python",
   "pygments_lexer": "ipython3",
   "version": "3.10.6"
  }
 },
 "nbformat": 4,
 "nbformat_minor": 5
}
